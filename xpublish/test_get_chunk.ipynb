{
 "cells": [
  {
   "cell_type": "code",
   "execution_count": 1,
   "metadata": {},
   "outputs": [
    {
     "data": {
      "text/plain": [
       "<zarr.core.Array '/hs' (1, 73, 256, 256) float32 read-only>"
      ]
     },
     "execution_count": 1,
     "metadata": {},
     "output_type": "execute_result"
    }
   ],
   "source": [
    "%matplotlib inline\n",
    "import zarr\n",
    "import matplotlib.pyplot as plt\n",
    "\n",
    "l0 = zarr.open_group('http://localhost:9005/datasets/ww3/tree/0', mode='r')\n",
    "\n",
    "hs = l0['hs']\n",
    "hs"
   ]
  },
  {
   "cell_type": "code",
   "execution_count": 2,
   "metadata": {},
   "outputs": [
    {
     "data": {
      "text/html": [
       "<table class=\"zarr-info\"><tbody><tr><th style=\"text-align: left\">Name</th><td style=\"text-align: left\">/hs</td></tr><tr><th style=\"text-align: left\">Type</th><td style=\"text-align: left\">zarr.core.Array</td></tr><tr><th style=\"text-align: left\">Data type</th><td style=\"text-align: left\">float32</td></tr><tr><th style=\"text-align: left\">Shape</th><td style=\"text-align: left\">(1, 73, 256, 256)</td></tr><tr><th style=\"text-align: left\">Chunk shape</th><td style=\"text-align: left\">(1, 73, 256, 256)</td></tr><tr><th style=\"text-align: left\">Order</th><td style=\"text-align: left\">C</td></tr><tr><th style=\"text-align: left\">Read-only</th><td style=\"text-align: left\">True</td></tr><tr><th style=\"text-align: left\">Compressor</th><td style=\"text-align: left\">Blosc(cname='lz4', clevel=5, shuffle=SHUFFLE, blocksize=0)</td></tr><tr><th style=\"text-align: left\">Store type</th><td style=\"text-align: left\">zarr.storage.FSStore</td></tr><tr><th style=\"text-align: left\">No. bytes</th><td style=\"text-align: left\">19136512 (18.2M)</td></tr><tr><th style=\"text-align: left\">Chunks initialized</th><td style=\"text-align: left\">0/1</td></tr></tbody></table>"
      ],
      "text/plain": [
       "Name               : /hs\n",
       "Type               : zarr.core.Array\n",
       "Data type          : float32\n",
       "Shape              : (1, 73, 256, 256)\n",
       "Chunk shape        : (1, 73, 256, 256)\n",
       "Order              : C\n",
       "Read-only          : True\n",
       "Compressor         : Blosc(cname='lz4', clevel=5, shuffle=SHUFFLE, blocksize=0)\n",
       "Store type         : zarr.storage.FSStore\n",
       "No. bytes          : 19136512 (18.2M)\n",
       "Chunks initialized : 0/1"
      ]
     },
     "execution_count": 2,
     "metadata": {},
     "output_type": "execute_result"
    }
   ],
   "source": [
    "hs.info"
   ]
  },
  {
   "cell_type": "code",
   "execution_count": 3,
   "metadata": {},
   "outputs": [
    {
     "ename": "RuntimeError",
     "evalue": "error during blosc decompression: -1",
     "output_type": "error",
     "traceback": [
      "\u001b[0;31m---------------------------------------------------------------------------\u001b[0m",
      "\u001b[0;31mRuntimeError\u001b[0m                              Traceback (most recent call last)",
      "\u001b[1;32m/Users/matthewiannucci/Developer/restful-grids/xpublish/test_get_chunk.ipynb Cell 3'\u001b[0m in \u001b[0;36m<cell line: 1>\u001b[0;34m()\u001b[0m\n\u001b[0;32m----> <a href='vscode-notebook-cell:/Users/matthewiannucci/Developer/restful-grids/xpublish/test_get_chunk.ipynb#ch0000003?line=0'>1</a>\u001b[0m tile_data \u001b[39m=\u001b[39m hs[\u001b[39m0\u001b[39;49m, \u001b[39m0\u001b[39;49m, :, :]\n\u001b[1;32m      <a href='vscode-notebook-cell:/Users/matthewiannucci/Developer/restful-grids/xpublish/test_get_chunk.ipynb#ch0000003?line=1'>2</a>\u001b[0m tile_data\n",
      "File \u001b[0;32m~/Developer/restful-grids/env/lib/python3.9/site-packages/zarr/core.py:720\u001b[0m, in \u001b[0;36mArray.__getitem__\u001b[0;34m(self, selection)\u001b[0m\n\u001b[1;32m    <a href='file:///Users/matthewiannucci/Developer/restful-grids/env/lib/python3.9/site-packages/zarr/core.py?line=717'>718</a>\u001b[0m     result \u001b[39m=\u001b[39m \u001b[39mself\u001b[39m\u001b[39m.\u001b[39mvindex[selection]\n\u001b[1;32m    <a href='file:///Users/matthewiannucci/Developer/restful-grids/env/lib/python3.9/site-packages/zarr/core.py?line=718'>719</a>\u001b[0m \u001b[39melse\u001b[39;00m:\n\u001b[0;32m--> <a href='file:///Users/matthewiannucci/Developer/restful-grids/env/lib/python3.9/site-packages/zarr/core.py?line=719'>720</a>\u001b[0m     result \u001b[39m=\u001b[39m \u001b[39mself\u001b[39;49m\u001b[39m.\u001b[39;49mget_basic_selection(pure_selection, fields\u001b[39m=\u001b[39;49mfields)\n\u001b[1;32m    <a href='file:///Users/matthewiannucci/Developer/restful-grids/env/lib/python3.9/site-packages/zarr/core.py?line=720'>721</a>\u001b[0m \u001b[39mreturn\u001b[39;00m result\n",
      "File \u001b[0;32m~/Developer/restful-grids/env/lib/python3.9/site-packages/zarr/core.py:846\u001b[0m, in \u001b[0;36mArray.get_basic_selection\u001b[0;34m(self, selection, out, fields)\u001b[0m\n\u001b[1;32m    <a href='file:///Users/matthewiannucci/Developer/restful-grids/env/lib/python3.9/site-packages/zarr/core.py?line=842'>843</a>\u001b[0m     \u001b[39mreturn\u001b[39;00m \u001b[39mself\u001b[39m\u001b[39m.\u001b[39m_get_basic_selection_zd(selection\u001b[39m=\u001b[39mselection, out\u001b[39m=\u001b[39mout,\n\u001b[1;32m    <a href='file:///Users/matthewiannucci/Developer/restful-grids/env/lib/python3.9/site-packages/zarr/core.py?line=843'>844</a>\u001b[0m                                         fields\u001b[39m=\u001b[39mfields)\n\u001b[1;32m    <a href='file:///Users/matthewiannucci/Developer/restful-grids/env/lib/python3.9/site-packages/zarr/core.py?line=844'>845</a>\u001b[0m \u001b[39melse\u001b[39;00m:\n\u001b[0;32m--> <a href='file:///Users/matthewiannucci/Developer/restful-grids/env/lib/python3.9/site-packages/zarr/core.py?line=845'>846</a>\u001b[0m     \u001b[39mreturn\u001b[39;00m \u001b[39mself\u001b[39;49m\u001b[39m.\u001b[39;49m_get_basic_selection_nd(selection\u001b[39m=\u001b[39;49mselection, out\u001b[39m=\u001b[39;49mout,\n\u001b[1;32m    <a href='file:///Users/matthewiannucci/Developer/restful-grids/env/lib/python3.9/site-packages/zarr/core.py?line=846'>847</a>\u001b[0m                                         fields\u001b[39m=\u001b[39;49mfields)\n",
      "File \u001b[0;32m~/Developer/restful-grids/env/lib/python3.9/site-packages/zarr/core.py:889\u001b[0m, in \u001b[0;36mArray._get_basic_selection_nd\u001b[0;34m(self, selection, out, fields)\u001b[0m\n\u001b[1;32m    <a href='file:///Users/matthewiannucci/Developer/restful-grids/env/lib/python3.9/site-packages/zarr/core.py?line=882'>883</a>\u001b[0m \u001b[39mdef\u001b[39;00m \u001b[39m_get_basic_selection_nd\u001b[39m(\u001b[39mself\u001b[39m, selection, out\u001b[39m=\u001b[39m\u001b[39mNone\u001b[39;00m, fields\u001b[39m=\u001b[39m\u001b[39mNone\u001b[39;00m):\n\u001b[1;32m    <a href='file:///Users/matthewiannucci/Developer/restful-grids/env/lib/python3.9/site-packages/zarr/core.py?line=883'>884</a>\u001b[0m     \u001b[39m# implementation of basic selection for array with at least one dimension\u001b[39;00m\n\u001b[1;32m    <a href='file:///Users/matthewiannucci/Developer/restful-grids/env/lib/python3.9/site-packages/zarr/core.py?line=884'>885</a>\u001b[0m \n\u001b[1;32m    <a href='file:///Users/matthewiannucci/Developer/restful-grids/env/lib/python3.9/site-packages/zarr/core.py?line=885'>886</a>\u001b[0m     \u001b[39m# setup indexer\u001b[39;00m\n\u001b[1;32m    <a href='file:///Users/matthewiannucci/Developer/restful-grids/env/lib/python3.9/site-packages/zarr/core.py?line=886'>887</a>\u001b[0m     indexer \u001b[39m=\u001b[39m BasicIndexer(selection, \u001b[39mself\u001b[39m)\n\u001b[0;32m--> <a href='file:///Users/matthewiannucci/Developer/restful-grids/env/lib/python3.9/site-packages/zarr/core.py?line=888'>889</a>\u001b[0m     \u001b[39mreturn\u001b[39;00m \u001b[39mself\u001b[39;49m\u001b[39m.\u001b[39;49m_get_selection(indexer\u001b[39m=\u001b[39;49mindexer, out\u001b[39m=\u001b[39;49mout, fields\u001b[39m=\u001b[39;49mfields)\n",
      "File \u001b[0;32m~/Developer/restful-grids/env/lib/python3.9/site-packages/zarr/core.py:1184\u001b[0m, in \u001b[0;36mArray._get_selection\u001b[0;34m(self, indexer, out, fields)\u001b[0m\n\u001b[1;32m   <a href='file:///Users/matthewiannucci/Developer/restful-grids/env/lib/python3.9/site-packages/zarr/core.py?line=1180'>1181</a>\u001b[0m \u001b[39melse\u001b[39;00m:\n\u001b[1;32m   <a href='file:///Users/matthewiannucci/Developer/restful-grids/env/lib/python3.9/site-packages/zarr/core.py?line=1181'>1182</a>\u001b[0m     \u001b[39m# allow storage to get multiple items at once\u001b[39;00m\n\u001b[1;32m   <a href='file:///Users/matthewiannucci/Developer/restful-grids/env/lib/python3.9/site-packages/zarr/core.py?line=1182'>1183</a>\u001b[0m     lchunk_coords, lchunk_selection, lout_selection \u001b[39m=\u001b[39m \u001b[39mzip\u001b[39m(\u001b[39m*\u001b[39mindexer)\n\u001b[0;32m-> <a href='file:///Users/matthewiannucci/Developer/restful-grids/env/lib/python3.9/site-packages/zarr/core.py?line=1183'>1184</a>\u001b[0m     \u001b[39mself\u001b[39;49m\u001b[39m.\u001b[39;49m_chunk_getitems(lchunk_coords, lchunk_selection, out, lout_selection,\n\u001b[1;32m   <a href='file:///Users/matthewiannucci/Developer/restful-grids/env/lib/python3.9/site-packages/zarr/core.py?line=1184'>1185</a>\u001b[0m                          drop_axes\u001b[39m=\u001b[39;49mindexer\u001b[39m.\u001b[39;49mdrop_axes, fields\u001b[39m=\u001b[39;49mfields)\n\u001b[1;32m   <a href='file:///Users/matthewiannucci/Developer/restful-grids/env/lib/python3.9/site-packages/zarr/core.py?line=1186'>1187</a>\u001b[0m \u001b[39mif\u001b[39;00m out\u001b[39m.\u001b[39mshape:\n\u001b[1;32m   <a href='file:///Users/matthewiannucci/Developer/restful-grids/env/lib/python3.9/site-packages/zarr/core.py?line=1187'>1188</a>\u001b[0m     \u001b[39mreturn\u001b[39;00m out\n",
      "File \u001b[0;32m~/Developer/restful-grids/env/lib/python3.9/site-packages/zarr/core.py:1920\u001b[0m, in \u001b[0;36mArray._chunk_getitems\u001b[0;34m(self, lchunk_coords, lchunk_selection, out, lout_selection, drop_axes, fields)\u001b[0m\n\u001b[1;32m   <a href='file:///Users/matthewiannucci/Developer/restful-grids/env/lib/python3.9/site-packages/zarr/core.py?line=1917'>1918</a>\u001b[0m \u001b[39mfor\u001b[39;00m ckey, chunk_select, out_select \u001b[39min\u001b[39;00m \u001b[39mzip\u001b[39m(ckeys, lchunk_selection, lout_selection):\n\u001b[1;32m   <a href='file:///Users/matthewiannucci/Developer/restful-grids/env/lib/python3.9/site-packages/zarr/core.py?line=1918'>1919</a>\u001b[0m     \u001b[39mif\u001b[39;00m ckey \u001b[39min\u001b[39;00m cdatas:\n\u001b[0;32m-> <a href='file:///Users/matthewiannucci/Developer/restful-grids/env/lib/python3.9/site-packages/zarr/core.py?line=1919'>1920</a>\u001b[0m         \u001b[39mself\u001b[39;49m\u001b[39m.\u001b[39;49m_process_chunk(\n\u001b[1;32m   <a href='file:///Users/matthewiannucci/Developer/restful-grids/env/lib/python3.9/site-packages/zarr/core.py?line=1920'>1921</a>\u001b[0m             out,\n\u001b[1;32m   <a href='file:///Users/matthewiannucci/Developer/restful-grids/env/lib/python3.9/site-packages/zarr/core.py?line=1921'>1922</a>\u001b[0m             cdatas[ckey],\n\u001b[1;32m   <a href='file:///Users/matthewiannucci/Developer/restful-grids/env/lib/python3.9/site-packages/zarr/core.py?line=1922'>1923</a>\u001b[0m             chunk_select,\n\u001b[1;32m   <a href='file:///Users/matthewiannucci/Developer/restful-grids/env/lib/python3.9/site-packages/zarr/core.py?line=1923'>1924</a>\u001b[0m             drop_axes,\n\u001b[1;32m   <a href='file:///Users/matthewiannucci/Developer/restful-grids/env/lib/python3.9/site-packages/zarr/core.py?line=1924'>1925</a>\u001b[0m             out_is_ndarray,\n\u001b[1;32m   <a href='file:///Users/matthewiannucci/Developer/restful-grids/env/lib/python3.9/site-packages/zarr/core.py?line=1925'>1926</a>\u001b[0m             fields,\n\u001b[1;32m   <a href='file:///Users/matthewiannucci/Developer/restful-grids/env/lib/python3.9/site-packages/zarr/core.py?line=1926'>1927</a>\u001b[0m             out_select,\n\u001b[1;32m   <a href='file:///Users/matthewiannucci/Developer/restful-grids/env/lib/python3.9/site-packages/zarr/core.py?line=1927'>1928</a>\u001b[0m             partial_read_decode\u001b[39m=\u001b[39;49mpartial_read_decode,\n\u001b[1;32m   <a href='file:///Users/matthewiannucci/Developer/restful-grids/env/lib/python3.9/site-packages/zarr/core.py?line=1928'>1929</a>\u001b[0m         )\n\u001b[1;32m   <a href='file:///Users/matthewiannucci/Developer/restful-grids/env/lib/python3.9/site-packages/zarr/core.py?line=1929'>1930</a>\u001b[0m     \u001b[39melse\u001b[39;00m:\n\u001b[1;32m   <a href='file:///Users/matthewiannucci/Developer/restful-grids/env/lib/python3.9/site-packages/zarr/core.py?line=1930'>1931</a>\u001b[0m         \u001b[39m# check exception type\u001b[39;00m\n\u001b[1;32m   <a href='file:///Users/matthewiannucci/Developer/restful-grids/env/lib/python3.9/site-packages/zarr/core.py?line=1931'>1932</a>\u001b[0m         \u001b[39mif\u001b[39;00m \u001b[39mself\u001b[39m\u001b[39m.\u001b[39m_fill_value \u001b[39mis\u001b[39;00m \u001b[39mnot\u001b[39;00m \u001b[39mNone\u001b[39;00m:\n",
      "File \u001b[0;32m~/Developer/restful-grids/env/lib/python3.9/site-packages/zarr/core.py:1826\u001b[0m, in \u001b[0;36mArray._process_chunk\u001b[0;34m(self, out, cdata, chunk_selection, drop_axes, out_is_ndarray, fields, out_selection, partial_read_decode)\u001b[0m\n\u001b[1;32m   <a href='file:///Users/matthewiannucci/Developer/restful-grids/env/lib/python3.9/site-packages/zarr/core.py?line=1823'>1824</a>\u001b[0m \u001b[39mexcept\u001b[39;00m ArrayIndexError:\n\u001b[1;32m   <a href='file:///Users/matthewiannucci/Developer/restful-grids/env/lib/python3.9/site-packages/zarr/core.py?line=1824'>1825</a>\u001b[0m     cdata \u001b[39m=\u001b[39m cdata\u001b[39m.\u001b[39mread_full()\n\u001b[0;32m-> <a href='file:///Users/matthewiannucci/Developer/restful-grids/env/lib/python3.9/site-packages/zarr/core.py?line=1825'>1826</a>\u001b[0m chunk \u001b[39m=\u001b[39m \u001b[39mself\u001b[39;49m\u001b[39m.\u001b[39;49m_decode_chunk(cdata)\n\u001b[1;32m   <a href='file:///Users/matthewiannucci/Developer/restful-grids/env/lib/python3.9/site-packages/zarr/core.py?line=1827'>1828</a>\u001b[0m \u001b[39m# select data from chunk\u001b[39;00m\n\u001b[1;32m   <a href='file:///Users/matthewiannucci/Developer/restful-grids/env/lib/python3.9/site-packages/zarr/core.py?line=1828'>1829</a>\u001b[0m \u001b[39mif\u001b[39;00m fields:\n",
      "File \u001b[0;32m~/Developer/restful-grids/env/lib/python3.9/site-packages/zarr/core.py:2076\u001b[0m, in \u001b[0;36mArray._decode_chunk\u001b[0;34m(self, cdata, start, nitems, expected_shape)\u001b[0m\n\u001b[1;32m   <a href='file:///Users/matthewiannucci/Developer/restful-grids/env/lib/python3.9/site-packages/zarr/core.py?line=2073'>2074</a>\u001b[0m         chunk \u001b[39m=\u001b[39m \u001b[39mself\u001b[39m\u001b[39m.\u001b[39m_compressor\u001b[39m.\u001b[39mdecode_partial(cdata, start, nitems)\n\u001b[1;32m   <a href='file:///Users/matthewiannucci/Developer/restful-grids/env/lib/python3.9/site-packages/zarr/core.py?line=2074'>2075</a>\u001b[0m     \u001b[39melse\u001b[39;00m:\n\u001b[0;32m-> <a href='file:///Users/matthewiannucci/Developer/restful-grids/env/lib/python3.9/site-packages/zarr/core.py?line=2075'>2076</a>\u001b[0m         chunk \u001b[39m=\u001b[39m \u001b[39mself\u001b[39;49m\u001b[39m.\u001b[39;49m_compressor\u001b[39m.\u001b[39;49mdecode(cdata)\n\u001b[1;32m   <a href='file:///Users/matthewiannucci/Developer/restful-grids/env/lib/python3.9/site-packages/zarr/core.py?line=2076'>2077</a>\u001b[0m \u001b[39melse\u001b[39;00m:\n\u001b[1;32m   <a href='file:///Users/matthewiannucci/Developer/restful-grids/env/lib/python3.9/site-packages/zarr/core.py?line=2077'>2078</a>\u001b[0m     chunk \u001b[39m=\u001b[39m cdata\n",
      "File \u001b[0;32mnumcodecs/blosc.pyx:562\u001b[0m, in \u001b[0;36mnumcodecs.blosc.Blosc.decode\u001b[0;34m()\u001b[0m\n",
      "File \u001b[0;32mnumcodecs/blosc.pyx:392\u001b[0m, in \u001b[0;36mnumcodecs.blosc.decompress\u001b[0;34m()\u001b[0m\n",
      "\u001b[0;31mRuntimeError\u001b[0m: error during blosc decompression: -1"
     ]
    }
   ],
   "source": [
    "tile_data = hs[0, 0, :, :]\n",
    "tile_data"
   ]
  },
  {
   "cell_type": "markdown",
   "metadata": {},
   "source": []
  },
  {
   "cell_type": "code",
   "execution_count": 6,
   "metadata": {},
   "outputs": [
    {
     "data": {
      "text/plain": [
       "<matplotlib.image.AxesImage at 0x10f5601f0>"
      ]
     },
     "execution_count": 6,
     "metadata": {},
     "output_type": "execute_result"
    },
    {
     "data": {
      "image/png": "[encoded data removed]",
      "text/plain": [
       "<Figure size 432x288 with 1 Axes>"
      ]
     },
     "metadata": {
      "needs_background": "light"
     },
     "output_type": "display_data"
    }
   ],
   "source": [
    "plt.imshow(tile_data)"
   ]
  }
 ],
 "metadata": {
  "interpreter": {
   "hash": "1b81d1d535df7769bbd10807f688dfefefc291b6f98a68417a180e56994d6783"
  },
  "kernelspec": {
   "display_name": "Python 3.9.11 ('env': venv)",
   "language": "python",
   "name": "python3"
  },
  "language_info": {
   "codemirror_mode": {
    "name": "ipython",
    "version": 3
   },
   "file_extension": ".py",
   "mimetype": "text/x-python",
   "name": "python",
   "nbconvert_exporter": "python",
   "pygments_lexer": "ipython3",
   "version": "3.9.11"
  },
  "orig_nbformat": 4
 },
 "nbformat": 4,
 "nbformat_minor": 2
}
